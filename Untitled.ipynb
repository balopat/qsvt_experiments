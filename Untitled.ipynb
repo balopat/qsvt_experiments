{
 "cells": [
  {
   "cell_type": "code",
   "execution_count": 7,
   "id": "4c3b6b00",
   "metadata": {},
   "outputs": [],
   "source": [
    "import numpy as np \n",
    "import scipy\n",
    "import scipy.linalg"
   ]
  },
  {
   "cell_type": "code",
   "execution_count": 11,
   "id": "52bf3ec5",
   "metadata": {},
   "outputs": [],
   "source": [
    "H = np.array([[0, 25, 0],\n",
    "             [25, 0, 25*np.sqrt(2)],\n",
    "             [0, 25*np.sqrt(2), -300]])/300"
   ]
  },
  {
   "cell_type": "code",
   "execution_count": 12,
   "id": "ed459ba2",
   "metadata": {},
   "outputs": [
    {
     "data": {
      "text/plain": [
       "array([[ 9.99132319e-01-2.49621653e-08j, -2.98803761e-06+4.16308066e-02j,\n",
       "        -1.20173035e-03+2.01972453e-04j],\n",
       "       [-2.98803761e-06+4.16308066e-02j,  9.97432816e-01+2.85607220e-04j,\n",
       "         1.44165384e-02+5.64511819e-02j],\n",
       "       [-1.20173035e-03+2.01972453e-04j,  1.44165384e-02+5.64511819e-02j,\n",
       "         8.75954182e-01-4.78861371e-01j]])"
      ]
     },
     "execution_count": 12,
     "metadata": {},
     "output_type": "execute_result"
    }
   ],
   "source": [
    "scipy.linalg.expm(1j*0.5*H)"
   ]
  },
  {
   "cell_type": "code",
   "execution_count": null,
   "id": "7af271e7",
   "metadata": {},
   "outputs": [],
   "source": []
  }
 ],
 "metadata": {
  "kernelspec": {
   "display_name": "Python 3 (ipykernel)",
   "language": "python",
   "name": "python3"
  },
  "language_info": {
   "codemirror_mode": {
    "name": "ipython",
    "version": 3
   },
   "file_extension": ".py",
   "mimetype": "text/x-python",
   "name": "python",
   "nbconvert_exporter": "python",
   "pygments_lexer": "ipython3",
   "version": "3.9.6"
  }
 },
 "nbformat": 4,
 "nbformat_minor": 5
}
